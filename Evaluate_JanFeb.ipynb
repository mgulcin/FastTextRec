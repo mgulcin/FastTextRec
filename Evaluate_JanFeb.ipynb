{
 "cells": [
  {
   "cell_type": "code",
   "execution_count": 5,
   "metadata": {
    "collapsed": true
   },
   "outputs": [],
   "source": [
    "%matplotlib inline\n",
    "import matplotlib.pyplot as plt\n",
    "import pandas as pd\n",
    "import numpy as np\n",
    "import csv"
   ]
  },
  {
   "cell_type": "code",
   "execution_count": 6,
   "metadata": {
    "collapsed": false
   },
   "outputs": [],
   "source": [
    "test_feb_output_file_path = \"PROJECT_PATH/FastText_Rec/data/checkin2011/checkin2011/test_feb_user_2_list_of_visits.csv\"\n",
    "\n",
    "user_2_list_of_visits_seq = {}\n",
    "user_2_list_of_visits_single = {}\n",
    "with open(test_feb_output_file_path, \"rb\") as f:\n",
    "    reader = csv.reader(f, delimiter='\\t', quoting = csv.QUOTE_NONE)\n",
    "    for row in reader:\n",
    "        # remove [, ]\n",
    "        updated_row = [value.replace(\"[\", \"\") for value in row]\n",
    "        updated_row = [value.replace(\"]\", \"\") for value in updated_row]\n",
    "        # use _ as the separator\n",
    "        updated_row = [value.replace(\", \", \"_\") for value in updated_row]\n",
    "        \n",
    "        user_id = updated_row[0]\n",
    "        list_of_visits_seq = updated_row[1:]\n",
    "        user_2_list_of_visits_seq[user_id] = list_of_visits_seq\n",
    "        \n",
    "        list_of_visits_single = []\n",
    "        for visit_seq in list_of_visits_seq:\n",
    "            items = visit_seq.split('_')\n",
    "            list_of_visits_single.extend(items)\n",
    "        user_2_list_of_visits_single[user_id]= list_of_visits_single\n",
    "        \n",
    "        #print user_2_list_of_visits_seq\n",
    "        #print user_2_list_of_visits_single\n",
    "        #break"
   ]
  },
  {
   "cell_type": "code",
   "execution_count": null,
   "metadata": {
    "collapsed": true
   },
   "outputs": [],
   "source": [
    ""
   ]
  },
  {
   "cell_type": "code",
   "execution_count": 7,
   "metadata": {
    "collapsed": false
   },
   "outputs": [
    {
     "ename": "NameError",
     "evalue": "name 'stop' is not defined",
     "traceback": [
      "\u001b[0;31m---------------------------------------------------------------------------\u001b[0m",
      "\u001b[0;31mNameError\u001b[0m                                 Traceback (most recent call last)",
      "\u001b[0;32m<ipython-input-7-30d9529ff51c>\u001b[0m in \u001b[0;36m<module>\u001b[0;34m()\u001b[0m\n\u001b[0;32m----> 1\u001b[0;31m \u001b[0mstop\u001b[0m\u001b[0;34m\u001b[0m\u001b[0m\n\u001b[0m",
      "\u001b[0;31mNameError\u001b[0m: name 'stop' is not defined"
     ],
     "output_type": "error"
    }
   ],
   "source": [
    "stop"
   ]
  },
  {
   "cell_type": "code",
   "execution_count": 8,
   "metadata": {
    "collapsed": false
   },
   "outputs": [],
   "source": [
    "rec_seq_output_folder = \"PROJECT_PATH/FastText_Rec/output/seq_of_loc_rec/\"\n",
    "rec_seq_output_file_path = rec_seq_output_folder + \"fasttext_contentbased_rec_CBow_VS=10_MaxN=5\"\n",
    "\n",
    "user_2_rec_seq = {}\n",
    "user_2_rec_seq_to_single_list = {}\n",
    "user_2_rec_seq_to_single = {}\n",
    "with open(rec_seq_output_file_path, \"rb\") as f:\n",
    "    reader = csv.reader(f, delimiter=',')#, quotechar = \"'\"\n",
    "    for row in reader:\n",
    "        # remove ' and space\n",
    "        updated_row = [value.replace(\"'\", \"\") for value in row]\n",
    "        updated_row = [value.replace(\" \", \"\") for value in updated_row]\n",
    "        # remove [, ]\n",
    "        updated_row = [value.replace(\"[\", \"\") for value in updated_row]\n",
    "        updated_row = [value.replace(\"]\", \"\") for value in updated_row]\n",
    "        \n",
    "        user_id = updated_row[0]\n",
    "        rec_seq_output = updated_row[1:]\n",
    "        user_2_rec_seq[user_id] = rec_seq_output\n",
    "        \n",
    "        rec_seq_to_single_output = []\n",
    "        rec_seq_to_single_list_output = []\n",
    "        for rec_seq in rec_seq_output:\n",
    "            items = rec_seq.split('_')\n",
    "            rec_seq_to_single_output.extend(items)\n",
    "            rec_seq_to_single_list_output.append(items)\n",
    "        user_2_rec_seq_to_single[user_id]= rec_seq_to_single_output\n",
    "        user_2_rec_seq_to_single_list[user_id]= rec_seq_to_single_list_output\n",
    "        \n",
    "#         print row\n",
    "#         print user_2_rec_seq\n",
    "#         print user_2_rec_seq_to_single_list\n",
    "#         print user_2_rec_seq_to_single\n",
    "#         break"
   ]
  },
  {
   "cell_type": "code",
   "execution_count": null,
   "metadata": {
    "collapsed": false
   },
   "outputs": [],
   "source": [
    "stop"
   ]
  },
  {
   "cell_type": "code",
   "execution_count": 9,
   "metadata": {
    "collapsed": false
   },
   "outputs": [
    {
     "name": "stdout",
     "output_type": "stream",
     "text": [
      "True\n",
      "True\n",
      "True\n",
      "False\n",
      "786\n",
      "658\n",
      "7522\n"
     ]
    }
   ],
   "source": [
    "print user_2_list_of_visits_seq.keys() == user_2_list_of_visits_single.keys()\n",
    "print user_2_rec_seq.keys() == user_2_rec_seq_to_single.keys()\n",
    "print user_2_rec_seq.keys() == user_2_rec_seq_to_single_list.keys()\n",
    "print user_2_rec_seq.keys() == user_2_list_of_visits_seq.keys()\n",
    "print len(list(set(user_2_rec_seq.keys() ) - set(user_2_list_of_visits_seq.keys())))\n",
    "print len(list(set(user_2_list_of_visits_seq.keys() ) - set(user_2_rec_seq.keys())))\n",
    "print len(list(set(user_2_list_of_visits_seq.keys()).intersection(user_2_rec_seq.keys())))"
   ]
  },
  {
   "cell_type": "code",
   "execution_count": 10,
   "metadata": {
    "collapsed": true
   },
   "outputs": [],
   "source": [
    "common_users = list(set(user_2_list_of_visits_seq.keys()).intersection(user_2_rec_seq.keys()))"
   ]
  },
  {
   "cell_type": "code",
   "execution_count": 12,
   "metadata": {
    "collapsed": false
   },
   "outputs": [
    {
     "data": {
      "text/plain": [
       "False"
      ]
     },
     "execution_count": 12,
     "metadata": {},
     "output_type": "execute_result"
    }
   ],
   "source": [
    "\"user8858\" in common_users"
   ]
  },
  {
   "cell_type": "code",
   "execution_count": 13,
   "metadata": {
    "collapsed": true
   },
   "outputs": [],
   "source": [
    "user_2_list_of_visits_seq = {k: user_2_list_of_visits_seq[k] for k in common_users}\n",
    "user_2_list_of_visits_single = {k: user_2_list_of_visits_single[k] for k in common_users}\n",
    "\n",
    "user_2_rec_seq = {k: user_2_rec_seq[k] for k in common_users}\n",
    "user_2_rec_seq_to_single = {k: user_2_rec_seq_to_single[k] for k in common_users}\n",
    "user_2_rec_seq_to_single_list = {k: user_2_rec_seq_to_single_list[k] for k in common_users}"
   ]
  },
  {
   "cell_type": "code",
   "execution_count": 14,
   "metadata": {
    "collapsed": false
   },
   "outputs": [
    {
     "name": "stdout",
     "output_type": "stream",
     "text": [
      "True\n",
      "True\n",
      "True\n",
      "True\n",
      "0\n",
      "0\n",
      "7522\n"
     ]
    }
   ],
   "source": [
    "print user_2_list_of_visits_seq.keys() == user_2_list_of_visits_single.keys()\n",
    "print user_2_rec_seq.keys() == user_2_rec_seq_to_single.keys()\n",
    "print user_2_rec_seq.keys() == user_2_rec_seq_to_single_list.keys()\n",
    "print user_2_rec_seq.keys() == user_2_list_of_visits_seq.keys()\n",
    "print len(list(set(user_2_rec_seq.keys() ) - set(user_2_list_of_visits_seq.keys())))\n",
    "print len(list(set(user_2_list_of_visits_seq.keys() ) - set(user_2_rec_seq.keys())))\n",
    "print len(list(set(user_2_list_of_visits_seq.keys()).intersection(user_2_rec_seq.keys())))"
   ]
  },
  {
   "cell_type": "code",
   "execution_count": 15,
   "metadata": {
    "collapsed": false
   },
   "outputs": [
    {
     "name": "stdout",
     "output_type": "stream",
     "text": [
      "user1253 ['4133', '59223', '846', '9359', '42432', '49116_10061_672_63479', '4', '771', '12478']\n",
      "user1253 ['13035', '35315_13133', '23241', '28678_32958_28678_12794_9302_9302', '36676', '10719_11198', '35511_2619_35792', '45391', '1567', '43727']\n"
     ]
    }
   ],
   "source": [
    "for user_id, vals in user_2_list_of_visits_seq.iteritems():\n",
    "    print user_id, vals\n",
    "    break\n",
    "for user_id, vals in user_2_rec_seq.iteritems():\n",
    "    print user_id, vals\n",
    "    break"
   ]
  },
  {
   "cell_type": "code",
   "execution_count": 17,
   "metadata": {
    "collapsed": false
   },
   "outputs": [],
   "source": [
    "# y_true = user_2_list_of_visits_seq.values()\n",
    "# y_pred = user_2_rec_seq.values()\n",
    "# print y_true[0]\n",
    "# print y_pred[0]\n",
    "# print len(y_true[0])\n",
    "# print len(y_pred[0])\n",
    "\n",
    "# from sklearn.preprocessing import MultiLabelBinarizer\n",
    "# y_true_binarized = MultiLabelBinarizer().fit_transform(y_true)\n",
    "# y_pred_binarized = MultiLabelBinarizer().fit_transform(y_pred)\n",
    "# print y_true_binarized[0]\n",
    "# print y_pred_binarized[0]\n",
    "\n",
    "# from sklearn.metrics import classification_report\n",
    "# classification_report(y_true_binarized, y_pred_binarized)"
   ]
  },
  {
   "cell_type": "code",
   "execution_count": 18,
   "metadata": {
    "collapsed": true
   },
   "outputs": [],
   "source": [
    "def count_tp(y_true_single_user, y_pred_single_user):\n",
    "    tp = 0\n",
    "    for item in  y_pred_single_user:\n",
    "        if item in y_true_single_user:\n",
    "            tp = tp+1\n",
    "    return tp\n",
    "\n",
    "def find_tp_fp(true_rec, pred_rec, user_list):\n",
    "    user_2_tp_and_fp = {}\n",
    "    for user in user_list:\n",
    "        y_true = user_2_list_of_visits_seq[user]\n",
    "        y_pred = user_2_rec_seq[user]\n",
    "        tp = count_tp(y_true, y_pred)\n",
    "        \n",
    "        fp = len(y_pred) - tp\n",
    "        user_2_tp_and_fp[user] = (tp, fp)\n",
    "    return user_2_tp_and_fp"
   ]
  },
  {
   "cell_type": "code",
   "execution_count": 19,
   "metadata": {
    "collapsed": false
   },
   "outputs": [
    {
     "data": {
      "text/html": [
       "<div>\n",
       "<style scoped>\n",
       "    .dataframe tbody tr th:only-of-type {\n",
       "        vertical-align: middle;\n",
       "    }\n",
       "\n",
       "    .dataframe tbody tr th {\n",
       "        vertical-align: top;\n",
       "    }\n",
       "\n",
       "    .dataframe thead th {\n",
       "        text-align: right;\n",
       "    }\n",
       "</style>\n",
       "<table border=\"1\" class=\"dataframe\">\n",
       "  <thead>\n",
       "    <tr style=\"text-align: right;\">\n",
       "      <th></th>\n",
       "      <th>tp</th>\n",
       "      <th>fp</th>\n",
       "    </tr>\n",
       "  </thead>\n",
       "  <tbody>\n",
       "    <tr>\n",
       "      <th>user5200</th>\n",
       "      <td>1</td>\n",
       "      <td>9</td>\n",
       "    </tr>\n",
       "    <tr>\n",
       "      <th>user4030</th>\n",
       "      <td>1</td>\n",
       "      <td>9</td>\n",
       "    </tr>\n",
       "    <tr>\n",
       "      <th>user4782</th>\n",
       "      <td>1</td>\n",
       "      <td>9</td>\n",
       "    </tr>\n",
       "    <tr>\n",
       "      <th>user246</th>\n",
       "      <td>1</td>\n",
       "      <td>9</td>\n",
       "    </tr>\n",
       "    <tr>\n",
       "      <th>user3350</th>\n",
       "      <td>1</td>\n",
       "      <td>9</td>\n",
       "    </tr>\n",
       "    <tr>\n",
       "      <th>user6003</th>\n",
       "      <td>1</td>\n",
       "      <td>9</td>\n",
       "    </tr>\n",
       "    <tr>\n",
       "      <th>user7602</th>\n",
       "      <td>1</td>\n",
       "      <td>9</td>\n",
       "    </tr>\n",
       "    <tr>\n",
       "      <th>user5937</th>\n",
       "      <td>1</td>\n",
       "      <td>9</td>\n",
       "    </tr>\n",
       "    <tr>\n",
       "      <th>user5931</th>\n",
       "      <td>1</td>\n",
       "      <td>9</td>\n",
       "    </tr>\n",
       "    <tr>\n",
       "      <th>user1487</th>\n",
       "      <td>1</td>\n",
       "      <td>9</td>\n",
       "    </tr>\n",
       "    <tr>\n",
       "      <th>user4303</th>\n",
       "      <td>1</td>\n",
       "      <td>9</td>\n",
       "    </tr>\n",
       "    <tr>\n",
       "      <th>user3221</th>\n",
       "      <td>1</td>\n",
       "      <td>9</td>\n",
       "    </tr>\n",
       "    <tr>\n",
       "      <th>user1671</th>\n",
       "      <td>1</td>\n",
       "      <td>9</td>\n",
       "    </tr>\n",
       "    <tr>\n",
       "      <th>user1507</th>\n",
       "      <td>1</td>\n",
       "      <td>9</td>\n",
       "    </tr>\n",
       "    <tr>\n",
       "      <th>user6629</th>\n",
       "      <td>1</td>\n",
       "      <td>9</td>\n",
       "    </tr>\n",
       "    <tr>\n",
       "      <th>user3575</th>\n",
       "      <td>1</td>\n",
       "      <td>9</td>\n",
       "    </tr>\n",
       "    <tr>\n",
       "      <th>user8144</th>\n",
       "      <td>1</td>\n",
       "      <td>9</td>\n",
       "    </tr>\n",
       "    <tr>\n",
       "      <th>user4129</th>\n",
       "      <td>1</td>\n",
       "      <td>9</td>\n",
       "    </tr>\n",
       "    <tr>\n",
       "      <th>user4383</th>\n",
       "      <td>1</td>\n",
       "      <td>9</td>\n",
       "    </tr>\n",
       "    <tr>\n",
       "      <th>user7534</th>\n",
       "      <td>1</td>\n",
       "      <td>9</td>\n",
       "    </tr>\n",
       "    <tr>\n",
       "      <th>user5300</th>\n",
       "      <td>1</td>\n",
       "      <td>9</td>\n",
       "    </tr>\n",
       "    <tr>\n",
       "      <th>user921</th>\n",
       "      <td>1</td>\n",
       "      <td>9</td>\n",
       "    </tr>\n",
       "    <tr>\n",
       "      <th>user4061</th>\n",
       "      <td>1</td>\n",
       "      <td>9</td>\n",
       "    </tr>\n",
       "    <tr>\n",
       "      <th>user4208</th>\n",
       "      <td>1</td>\n",
       "      <td>9</td>\n",
       "    </tr>\n",
       "    <tr>\n",
       "      <th>user85</th>\n",
       "      <td>1</td>\n",
       "      <td>9</td>\n",
       "    </tr>\n",
       "    <tr>\n",
       "      <th>user909</th>\n",
       "      <td>1</td>\n",
       "      <td>9</td>\n",
       "    </tr>\n",
       "    <tr>\n",
       "      <th>user3306</th>\n",
       "      <td>1</td>\n",
       "      <td>9</td>\n",
       "    </tr>\n",
       "    <tr>\n",
       "      <th>user4802</th>\n",
       "      <td>1</td>\n",
       "      <td>9</td>\n",
       "    </tr>\n",
       "    <tr>\n",
       "      <th>user7485</th>\n",
       "      <td>1</td>\n",
       "      <td>9</td>\n",
       "    </tr>\n",
       "    <tr>\n",
       "      <th>user2805</th>\n",
       "      <td>1</td>\n",
       "      <td>9</td>\n",
       "    </tr>\n",
       "    <tr>\n",
       "      <th>user769</th>\n",
       "      <td>2</td>\n",
       "      <td>8</td>\n",
       "    </tr>\n",
       "    <tr>\n",
       "      <th>user6693</th>\n",
       "      <td>1</td>\n",
       "      <td>9</td>\n",
       "    </tr>\n",
       "    <tr>\n",
       "      <th>user4199</th>\n",
       "      <td>1</td>\n",
       "      <td>9</td>\n",
       "    </tr>\n",
       "    <tr>\n",
       "      <th>user3256</th>\n",
       "      <td>1</td>\n",
       "      <td>9</td>\n",
       "    </tr>\n",
       "    <tr>\n",
       "      <th>user686</th>\n",
       "      <td>1</td>\n",
       "      <td>9</td>\n",
       "    </tr>\n",
       "    <tr>\n",
       "      <th>user660</th>\n",
       "      <td>1</td>\n",
       "      <td>9</td>\n",
       "    </tr>\n",
       "    <tr>\n",
       "      <th>user1512</th>\n",
       "      <td>1</td>\n",
       "      <td>9</td>\n",
       "    </tr>\n",
       "    <tr>\n",
       "      <th>user2055</th>\n",
       "      <td>1</td>\n",
       "      <td>9</td>\n",
       "    </tr>\n",
       "    <tr>\n",
       "      <th>user5075</th>\n",
       "      <td>1</td>\n",
       "      <td>9</td>\n",
       "    </tr>\n",
       "    <tr>\n",
       "      <th>user2005</th>\n",
       "      <td>1</td>\n",
       "      <td>9</td>\n",
       "    </tr>\n",
       "    <tr>\n",
       "      <th>user2043</th>\n",
       "      <td>1</td>\n",
       "      <td>9</td>\n",
       "    </tr>\n",
       "  </tbody>\n",
       "</table>\n",
       "</div>"
      ],
      "text/plain": [
       "          tp  fp\n",
       "user5200   1   9\n",
       "user4030   1   9\n",
       "user4782   1   9\n",
       "user246    1   9\n",
       "user3350   1   9\n",
       "user6003   1   9\n",
       "user7602   1   9\n",
       "user5937   1   9\n",
       "user5931   1   9\n",
       "user1487   1   9\n",
       "user4303   1   9\n",
       "user3221   1   9\n",
       "user1671   1   9\n",
       "user1507   1   9\n",
       "user6629   1   9\n",
       "user3575   1   9\n",
       "user8144   1   9\n",
       "user4129   1   9\n",
       "user4383   1   9\n",
       "user7534   1   9\n",
       "user5300   1   9\n",
       "user921    1   9\n",
       "user4061   1   9\n",
       "user4208   1   9\n",
       "user85     1   9\n",
       "user909    1   9\n",
       "user3306   1   9\n",
       "user4802   1   9\n",
       "user7485   1   9\n",
       "user2805   1   9\n",
       "user769    2   8\n",
       "user6693   1   9\n",
       "user4199   1   9\n",
       "user3256   1   9\n",
       "user686    1   9\n",
       "user660    1   9\n",
       "user1512   1   9\n",
       "user2055   1   9\n",
       "user5075   1   9\n",
       "user2005   1   9\n",
       "user2043   1   9"
      ]
     },
     "execution_count": 19,
     "metadata": {},
     "output_type": "execute_result"
    }
   ],
   "source": [
    "user_2_tp_and_fp = find_tp_fp(user_2_list_of_visits_seq, user_2_rec_seq, common_users)\n",
    "user_2_tp_and_fp_df = pd.DataFrame.from_dict(user_2_tp_and_fp, orient='index')\n",
    "user_2_tp_and_fp_df = user_2_tp_and_fp_df.rename(columns={0:\"tp\", 1:\"fp\"})\n",
    "user_2_tp_and_fp_df[user_2_tp_and_fp_df[\"tp\"]>0]"
   ]
  },
  {
   "cell_type": "code",
   "execution_count": null,
   "metadata": {
    "collapsed": true
   },
   "outputs": [],
   "source": [
    ""
   ]
  },
  {
   "cell_type": "code",
   "execution_count": null,
   "metadata": {
    "collapsed": true
   },
   "outputs": [],
   "source": [
    ""
   ]
  }
 ],
 "metadata": {
  "anaconda-cloud": {},
  "kernelspec": {
   "display_name": "Python [Root]",
   "language": "python",
   "name": "Python [Root]"
  }
 },
 "nbformat": 4,
 "nbformat_minor": 0
}